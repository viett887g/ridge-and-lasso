{
  "nbformat": 4,
  "nbformat_minor": 0,
  "metadata": {
    "colab": {
      "provenance": [],
      "collapsed_sections": [],
      "authorship_tag": "ABX9TyPL8NzELOFPzq8CEwk1sAgf",
      "include_colab_link": true
    },
    "kernelspec": {
      "name": "python3",
      "display_name": "Python 3"
    },
    "language_info": {
      "name": "python"
    }
  },
  "cells": [
    {
      "cell_type": "markdown",
      "metadata": {
        "id": "view-in-github",
        "colab_type": "text"
      },
      "source": [
        "<a href=\"https://colab.research.google.com/github/viett887g/ridge-and-lasso/blob/main/laso_and_rige.ipynb\" target=\"_parent\"><img src=\"https://colab.research.google.com/assets/colab-badge.svg\" alt=\"Open In Colab\"/></a>"
      ]
    },
    {
      "cell_type": "code",
      "source": [
        "import numpy as np\n",
        "import os\n",
        "from sklearn.model_selection import train_test_split\n",
        "from sklearn.model_selection import KFold\n",
        "from sklearn.metrics import mean_squared_error\n",
        "from sklearn.preprocessing import MinMaxScaler\n",
        "from sklearn import linear_model\n",
        "from sklearn.linear_model import Ridge\n",
        "from sklearn.linear_model import LinearRegression\n",
        "from sklearn.model_selection import RepeatedKFold\n",
        "from sklearn.model_selection import cross_val_predict"
      ],
      "metadata": {
        "id": "56L0SFhgiBWR"
      },
      "execution_count": 14,
      "outputs": []
    },
    {
      "cell_type": "code",
      "execution_count": 2,
      "metadata": {
        "id": "xmtiEi4Rh73b"
      },
      "outputs": [],
      "source": [
        "def readfile(filename,danfile):\n",
        "  D = np.loadtxt(os.path.join(filename,danfile),delimiter=',')\n",
        "  X, y = D[:, :-1], D[:, -1]\n",
        "  x0 = np.ones((X.shape[0], 1))\n",
        "  X = np.column_stack([x0, X])\n",
        "  X_train, X_test, y_train, y_test = train_test_split(X, y, test_size=0.30,random_state=15)\n",
        "  w_opt = np.zeros((X.shape[1], 1))\n",
        "  return X_train, X_test, y_train, y_test,w_opt\n"
      ]
    },
    {
      "cell_type": "code",
      "source": [],
      "metadata": {
        "id": "ZlPcEoR8Dfhj"
      },
      "execution_count": null,
      "outputs": []
    },
    {
      "cell_type": "code",
      "source": [
        "def laso(x,y):\n",
        "  kf = KFold(n_splits=10)\n",
        "  lasso = linear_model.Lasso()\n",
        "  y_pred = cross_val_predict(lasso, x, y, cv=10)\n",
        "  lasso.fit(x,y)\n",
        "  print(\"trong so toi uu\",lasso.coef_)\n",
        "  print(lasso.intercept_)\n",
        "\n",
        "  return y_pred"
      ],
      "metadata": {
        "id": "YJuInpippNNa"
      },
      "execution_count": 22,
      "outputs": []
    },
    {
      "cell_type": "code",
      "source": [
        "def rige(x,y):\n",
        "  kf = KFold(n_splits=10)\n",
        "  ridge = linear_model.Ridge(alpha=1.0)\n",
        "  y_pred2 = cross_val_predict(ridge, x, y, cv=10)\n",
        "  ridge.fit(x, y)\n",
        "  print(\"trong so toi uu cua rige \",ridge.coef_)\n",
        "  print(ridge.intercept_)\n",
        "  return y_pred2"
      ],
      "metadata": {
        "id": "Y6CbQuo0oWUi"
      },
      "execution_count": 26,
      "outputs": []
    },
    {
      "cell_type": "code",
      "source": [
        "def main():\n",
        "  X_train, X_test, y_train, y_test,w_opt=readfile(\"/content\",\"ex1data1.txt\")\n",
        "\n",
        "  las=laso(X_test,y_test)\n",
        "  print(las)\n",
        "  print(\" . . . .  . .  \\n\")\n",
        "  lov= rige(X_test,y_test)\n",
        "  print(lov)\n",
        "if __name__ == '__main__':\n",
        "  main()\n"
      ],
      "metadata": {
        "colab": {
          "base_uri": "https://localhost:8080/"
        },
        "id": "lCUXqhGxlHLO",
        "outputId": "78db6197-f995-4155-b27b-4e1f9113faf4"
      },
      "execution_count": 27,
      "outputs": [
        {
          "output_type": "stream",
          "name": "stdout",
          "text": [
            "trong so toi uu [0.         1.25304714]\n",
            "-4.940948081523381\n",
            "[ 7.88194243  1.28365395  1.96311304  4.55776947 12.52777352 20.06993655\n",
            "  3.40883749  1.983322    2.53416408  1.48927226  3.99465392 20.22770877\n",
            "  5.15143166  3.10735277  6.87550813  2.9619517   1.42496193 18.12767095\n",
            "  5.39323963  2.48563192  3.75607656  2.78089835 19.52012393 14.20993334\n",
            "  7.83986745  1.72316113 11.25871958  5.55707038  2.99784288  1.6036088 ]\n",
            " . . . .  . .  \n",
            "\n",
            "trong so toi uu cua rige  [0.         1.29417226]\n",
            "-5.320395770993745\n",
            "[ 7.91284815  1.11515438  1.81514724  4.50750874 12.78864416 20.62523659\n",
            "  3.28115663  1.80974614  2.37832279  1.30371355  3.90363609 20.74924716\n",
            "  5.10421032  3.00007773  6.87893903  2.83728934  1.24330216 18.56541097\n",
            "  5.34906559  2.35491595  3.66317405  2.66196948 19.9900274  14.49304131\n",
            "  7.87565602  1.57334893 11.39824724  5.51486992  2.87738823  1.44052228]\n"
          ]
        }
      ]
    }
  ]
}